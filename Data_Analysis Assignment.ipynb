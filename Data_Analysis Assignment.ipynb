{
 "cells": [
  {
   "cell_type": "code",
   "execution_count": 1,
   "id": "8368604a",
   "metadata": {},
   "outputs": [
    {
     "name": "stdout",
     "output_type": "stream",
     "text": [
      "C://Edtech_data analysis\\leads_basic_details.csv\n",
      "C://Edtech_data analysis\\leads_demo_watched_details.csv\n",
      "C://Edtech_data analysis\\leads_interaction_details.csv\n",
      "C://Edtech_data analysis\\leads_reasons_for_no_interest.csv\n",
      "C://Edtech_data analysis\\sales_managers_assigned_leads_details.csv\n",
      "C://Edtech_data analysis\\Untitled.ipynb\n",
      "C://Edtech_data analysis\\.ipynb_checkpoints\\Untitled-checkpoint.ipynb\n"
     ]
    }
   ],
   "source": [
    "import numpy as np # linear algebra\n",
    "import pandas as pd # data processing, CSV file I/O (e.g. pd.read_csv)\n",
    "\n",
    "# Input data files are available in the read-only \"../input/\" directory\n",
    "# For example, running this (by clicking run or pressing Shift+Enter) will list all files under the input directory\n",
    "\n",
    "import os\n",
    "for dirname, _, filenames in os.walk('C://Edtech_data analysis'):\n",
    "    for filename in filenames:\n",
    "        print(os.path.join(dirname, filename))"
   ]
  },
  {
   "cell_type": "code",
   "execution_count": 2,
   "id": "85c3f2f9",
   "metadata": {},
   "outputs": [],
   "source": [
    "leads_basic_details = pd.read_csv(\"C://Edtech_data analysis//leads_basic_details.csv\")\n",
    "leads_demo_watched_details = pd.read_csv(\"C://Edtech_data analysis//leads_demo_watched_details.csv\")\n",
    "leads_interaction_details = pd.read_csv(\"C://Edtech_data analysis//leads_interaction_details.csv\")\n",
    "leads_reasons_for_no_interest = pd.read_csv(\"C://Edtech_data analysis//leads_reasons_for_no_interest.csv\")\n",
    "sales_managers_assigned_leads_details = pd.read_csv(\"C://Edtech_data analysis//sales_managers_assigned_leads_details.csv\")"
   ]
  },
  {
   "cell_type": "code",
   "execution_count": 3,
   "id": "bef40070",
   "metadata": {},
   "outputs": [
    {
     "name": "stdout",
     "output_type": "stream",
     "text": [
      "<class 'pandas.core.frame.DataFrame'>\n",
      "RangeIndex: 360 entries, 0 to 359\n",
      "Data columns (total 7 columns):\n",
      " #   Column             Non-Null Count  Dtype \n",
      "---  ------             --------------  ----- \n",
      " 0   lead_id            360 non-null    object\n",
      " 1   age                360 non-null    int64 \n",
      " 2   gender             360 non-null    object\n",
      " 3   current_city       360 non-null    object\n",
      " 4   current_education  360 non-null    object\n",
      " 5   parent_occupation  360 non-null    object\n",
      " 6   lead_gen_source    360 non-null    object\n",
      "dtypes: int64(1), object(6)\n",
      "memory usage: 19.8+ KB\n"
     ]
    }
   ],
   "source": [
    "leads_basic_details.info()"
   ]
  },
  {
   "cell_type": "markdown",
   "id": "92fdf672",
   "metadata": {},
   "source": [
    "# obervation"
   ]
  },
  {
   "cell_type": "raw",
   "id": "34374ac8",
   "metadata": {},
   "source": [
    "# All feature of dataset are categorical feature except age feature"
   ]
  },
  {
   "cell_type": "code",
   "execution_count": 4,
   "id": "1c05436a",
   "metadata": {},
   "outputs": [
    {
     "data": {
      "text/html": [
       "<div>\n",
       "<style scoped>\n",
       "    .dataframe tbody tr th:only-of-type {\n",
       "        vertical-align: middle;\n",
       "    }\n",
       "\n",
       "    .dataframe tbody tr th {\n",
       "        vertical-align: top;\n",
       "    }\n",
       "\n",
       "    .dataframe thead th {\n",
       "        text-align: right;\n",
       "    }\n",
       "</style>\n",
       "<table border=\"1\" class=\"dataframe\">\n",
       "  <thead>\n",
       "    <tr style=\"text-align: right;\">\n",
       "      <th></th>\n",
       "      <th>lead_id</th>\n",
       "      <th>age</th>\n",
       "      <th>gender</th>\n",
       "      <th>current_city</th>\n",
       "      <th>current_education</th>\n",
       "      <th>parent_occupation</th>\n",
       "      <th>lead_gen_source</th>\n",
       "    </tr>\n",
       "  </thead>\n",
       "  <tbody>\n",
       "    <tr>\n",
       "      <th>137</th>\n",
       "      <td>USR1138</td>\n",
       "      <td>22</td>\n",
       "      <td>MALE</td>\n",
       "      <td>Hyderabad</td>\n",
       "      <td>Looking for Job</td>\n",
       "      <td>Government Employee</td>\n",
       "      <td>social_media</td>\n",
       "    </tr>\n",
       "    <tr>\n",
       "      <th>212</th>\n",
       "      <td>USR1213</td>\n",
       "      <td>21</td>\n",
       "      <td>FEMALE</td>\n",
       "      <td>Hyderabad</td>\n",
       "      <td>Degree</td>\n",
       "      <td>Lawyer</td>\n",
       "      <td>SEO</td>\n",
       "    </tr>\n",
       "  </tbody>\n",
       "</table>\n",
       "</div>"
      ],
      "text/plain": [
       "     lead_id  age  gender current_city current_education    parent_occupation  \\\n",
       "137  USR1138   22    MALE    Hyderabad   Looking for Job  Government Employee   \n",
       "212  USR1213   21  FEMALE    Hyderabad            Degree               Lawyer   \n",
       "\n",
       "    lead_gen_source  \n",
       "137    social_media  \n",
       "212             SEO  "
      ]
     },
     "execution_count": 4,
     "metadata": {},
     "output_type": "execute_result"
    }
   ],
   "source": [
    "leads_basic_details.query('lead_id == (\"USR1138\", \"USR1213\")')"
   ]
  },
  {
   "cell_type": "code",
   "execution_count": 5,
   "id": "fec21f7c",
   "metadata": {},
   "outputs": [
    {
     "data": {
      "text/plain": [
       "array([ 16,  20,  21,  22,  25,  18,  24, 211, 116], dtype=int64)"
      ]
     },
     "execution_count": 5,
     "metadata": {},
     "output_type": "execute_result"
    }
   ],
   "source": [
    "leads_basic_details.age.unique()"
   ]
  },
  {
   "cell_type": "markdown",
   "id": "c8589d9b",
   "metadata": {},
   "source": [
    "### Assuming target audience age between 15-35, we will exclude the above entries"
   ]
  },
  {
   "cell_type": "code",
   "execution_count": 6,
   "id": "d026c8b5",
   "metadata": {},
   "outputs": [],
   "source": [
    "lead_basic_details_cleaned = leads_basic_details.query('age <= 35')"
   ]
  },
  {
   "cell_type": "code",
   "execution_count": 7,
   "id": "c32fbbfb",
   "metadata": {},
   "outputs": [
    {
     "data": {
      "text/plain": [
       "array(['social_media', 'user_referrals', 'website', 'SEO',\n",
       "       'email_marketing'], dtype=object)"
      ]
     },
     "execution_count": 7,
     "metadata": {},
     "output_type": "execute_result"
    }
   ],
   "source": [
    "lead_basic_details_cleaned.lead_gen_source.unique()"
   ]
  },
  {
   "cell_type": "code",
   "execution_count": 8,
   "id": "764f0d95",
   "metadata": {},
   "outputs": [
    {
     "data": {
      "text/plain": [
       "Text(0.5, 1.0, 'Lead Source')"
      ]
     },
     "execution_count": 8,
     "metadata": {},
     "output_type": "execute_result"
    },
    {
     "data": {
      "image/png": "[encoded data removed]",
      "text/plain": [
       "<Figure size 432x288 with 1 Axes>"
      ]
     },
     "metadata": {},
     "output_type": "display_data"
    }
   ],
   "source": [
    "# plot a pie chart\n",
    "ax = lead_basic_details_cleaned.groupby('lead_gen_source').size().plot(kind='pie', autopct='%.2f',  y='lead_id', ylabel='')\n",
    "ax.set_title(\"Lead Source\")"
   ]
  },
  {
   "cell_type": "markdown",
   "id": "d804eec2",
   "metadata": {},
   "source": [
    "#### Preliminary observation tells that approx. 24% of the leads came to know about the firm through social media. SEO and email marketing form the next important source, each contributing about 20% of the leads."
   ]
  },
  {
   "cell_type": "code",
   "execution_count": 9,
   "id": "7f749ce2",
   "metadata": {},
   "outputs": [
    {
     "name": "stdout",
     "output_type": "stream",
     "text": [
      "<class 'pandas.core.frame.DataFrame'>\n",
      "RangeIndex: 194 entries, 0 to 193\n",
      "Data columns (total 4 columns):\n",
      " #   Column              Non-Null Count  Dtype \n",
      "---  ------              --------------  ----- \n",
      " 0   lead_id             194 non-null    object\n",
      " 1   demo_watched_date   194 non-null    object\n",
      " 2   language            194 non-null    object\n",
      " 3   watched_percentage  194 non-null    int64 \n",
      "dtypes: int64(1), object(3)\n",
      "memory usage: 6.2+ KB\n"
     ]
    }
   ],
   "source": [
    "leads_demo_watched_details.info()"
   ]
  },
  {
   "cell_type": "code",
   "execution_count": 10,
   "id": "fb90c39a",
   "metadata": {},
   "outputs": [
    {
     "data": {
      "text/html": [
       "<div>\n",
       "<style scoped>\n",
       "    .dataframe tbody tr th:only-of-type {\n",
       "        vertical-align: middle;\n",
       "    }\n",
       "\n",
       "    .dataframe tbody tr th {\n",
       "        vertical-align: top;\n",
       "    }\n",
       "\n",
       "    .dataframe thead th {\n",
       "        text-align: right;\n",
       "    }\n",
       "</style>\n",
       "<table border=\"1\" class=\"dataframe\">\n",
       "  <thead>\n",
       "    <tr style=\"text-align: right;\">\n",
       "      <th></th>\n",
       "      <th>lead_id</th>\n",
       "      <th>demo_watched_date</th>\n",
       "      <th>language</th>\n",
       "      <th>watched_percentage</th>\n",
       "    </tr>\n",
       "  </thead>\n",
       "  <tbody>\n",
       "    <tr>\n",
       "      <th>94</th>\n",
       "      <td>USR1138</td>\n",
       "      <td>2/20/2022</td>\n",
       "      <td>English</td>\n",
       "      <td>510</td>\n",
       "    </tr>\n",
       "    <tr>\n",
       "      <th>133</th>\n",
       "      <td>USR1213</td>\n",
       "      <td>1/20/2022</td>\n",
       "      <td>Telugu</td>\n",
       "      <td>233</td>\n",
       "    </tr>\n",
       "  </tbody>\n",
       "</table>\n",
       "</div>"
      ],
      "text/plain": [
       "     lead_id demo_watched_date language  watched_percentage\n",
       "94   USR1138         2/20/2022  English                 510\n",
       "133  USR1213         1/20/2022   Telugu                 233"
      ]
     },
     "execution_count": 10,
     "metadata": {},
     "output_type": "execute_result"
    }
   ],
   "source": [
    "leads_demo_watched_details.query('watched_percentage > 100')"
   ]
  },
  {
   "cell_type": "markdown",
   "id": "cac0830f",
   "metadata": {},
   "source": [
    "#### Watched Percentage cannot exceed 100, therefore we will need to exclude below results from our analysis"
   ]
  },
  {
   "cell_type": "code",
   "execution_count": 11,
   "id": "da905004",
   "metadata": {},
   "outputs": [],
   "source": [
    "leads_demo_watched_details_cleaned = leads_demo_watched_details.query('watched_percentage <= 100')"
   ]
  },
  {
   "cell_type": "code",
   "execution_count": 12,
   "id": "d6da2903",
   "metadata": {},
   "outputs": [],
   "source": [
    "# merge leads file with demo file\n",
    "df_merged_leads_demo = pd.merge(leads_demo_watched_details_cleaned, lead_basic_details_cleaned, how='inner', on = 'lead_id')\n",
    "\n",
    "#df_merged_leads_demo.to_csv('merged_leads_demo.csv', na_rep=' ', index=False)\n"
   ]
  },
  {
   "cell_type": "code",
   "execution_count": 13,
   "id": "89a11c5e",
   "metadata": {},
   "outputs": [
    {
     "data": {
      "text/plain": [
       "Text(0.5, 1.0, 'Demo Language')"
      ]
     },
     "execution_count": 13,
     "metadata": {},
     "output_type": "execute_result"
    },
    {
     "data": {
      "image/png": "[encoded data removed]",
      "text/plain": [
       "<Figure size 432x288 with 1 Axes>"
      ]
     },
     "metadata": {},
     "output_type": "display_data"
    }
   ],
   "source": [
    "# plot a pie chart\n",
    "ax = df_merged_leads_demo.groupby('language').size().plot(kind='pie', autopct='%.2f',  y='lead_id', ylabel='')\n",
    "ax.set_title(\"Demo Language\")"
   ]
  },
  {
   "cell_type": "markdown",
   "id": "7a015ce6",
   "metadata": {},
   "source": [
    "#### Almost 60% of the leads watched demo in English, 30% in Telugu, and just about 10% in Hindi."
   ]
  },
  {
   "cell_type": "code",
   "execution_count": 14,
   "id": "bdc33131",
   "metadata": {},
   "outputs": [],
   "source": [
    "leads_in_cities = df_merged_leads_demo.groupby('current_city').size()"
   ]
  },
  {
   "cell_type": "code",
   "execution_count": 15,
   "id": "49afb110",
   "metadata": {},
   "outputs": [
    {
     "data": {
      "text/plain": [
       "Text(0, 0.5, 'Lead Count')"
      ]
     },
     "execution_count": 15,
     "metadata": {},
     "output_type": "execute_result"
    },
    {
     "data": {
      "image/png": "[encoded data removed]",
      "text/plain": [
       "<Figure size 432x288 with 1 Axes>"
      ]
     },
     "metadata": {
      "needs_background": "light"
     },
     "output_type": "display_data"
    }
   ],
   "source": [
    "from matplotlib import pyplot as plt\n",
    "\n",
    "leads_in_cities.plot(kind=\"bar\")\n",
    "plt.xticks(rotation=30, horizontalalignment=\"center\")\n",
    "plt.title(\"Number of Leads in Different Cities\")\n",
    "plt.xlabel(\"Current City\")\n",
    "plt.ylabel(\"Lead Count\")"
   ]
  },
  {
   "cell_type": "markdown",
   "id": "4d63cc3c",
   "metadata": {},
   "source": [
    "#### Number of leads from Mumbai are the least."
   ]
  },
  {
   "cell_type": "code",
   "execution_count": 16,
   "id": "7af3392b",
   "metadata": {},
   "outputs": [
    {
     "data": {
      "text/plain": [
       "language  current_city \n",
       "English   Bengaluru        22\n",
       "          Chennai          17\n",
       "          Hyderabad        20\n",
       "          Kochi            19\n",
       "          Mumbai           11\n",
       "          Visakhapatnam    22\n",
       "Hindi     Bengaluru         3\n",
       "          Chennai           6\n",
       "          Hyderabad         3\n",
       "          Kochi             4\n",
       "          Mumbai            1\n",
       "          Visakhapatnam     2\n",
       "Telugu    Bengaluru         7\n",
       "          Chennai           7\n",
       "          Hyderabad        17\n",
       "          Kochi             8\n",
       "          Mumbai            7\n",
       "          Visakhapatnam    15\n",
       "dtype: int64"
      ]
     },
     "execution_count": 16,
     "metadata": {},
     "output_type": "execute_result"
    }
   ],
   "source": [
    "df_merged_leads_demo.groupby(['language', 'current_city']).size()"
   ]
  },
  {
   "cell_type": "code",
   "execution_count": 17,
   "id": "4d6fd002",
   "metadata": {},
   "outputs": [],
   "source": [
    "# merge demo file with interaction file\n",
    "\n",
    "df_merged_interaction_demo = pd.merge(leads_demo_watched_details_cleaned, leads_interaction_details, how='inner', on = 'lead_id')\n",
    "\n",
    "#df_merged_interaction_demo.to_csv('merged_interaction_demo.csv', na_rep=' ', index=False)"
   ]
  },
  {
   "cell_type": "code",
   "execution_count": 18,
   "id": "58c25ffd",
   "metadata": {},
   "outputs": [
    {
     "data": {
      "text/html": [
       "<div>\n",
       "<style scoped>\n",
       "    .dataframe tbody tr th:only-of-type {\n",
       "        vertical-align: middle;\n",
       "    }\n",
       "\n",
       "    .dataframe tbody tr th {\n",
       "        vertical-align: top;\n",
       "    }\n",
       "\n",
       "    .dataframe thead th {\n",
       "        text-align: right;\n",
       "    }\n",
       "</style>\n",
       "<table border=\"1\" class=\"dataframe\">\n",
       "  <thead>\n",
       "    <tr style=\"text-align: right;\">\n",
       "      <th></th>\n",
       "      <th>lead_id</th>\n",
       "      <th>demo_watched_date</th>\n",
       "      <th>language</th>\n",
       "      <th>watched_percentage</th>\n",
       "      <th>jnr_sm_id</th>\n",
       "      <th>lead_stage</th>\n",
       "      <th>call_done_date</th>\n",
       "      <th>call_status</th>\n",
       "      <th>call_reason</th>\n",
       "    </tr>\n",
       "  </thead>\n",
       "  <tbody>\n",
       "    <tr>\n",
       "      <th>0</th>\n",
       "      <td>USR1002</td>\n",
       "      <td>1/4/2022</td>\n",
       "      <td>Telugu</td>\n",
       "      <td>42</td>\n",
       "      <td>JNR1001MG</td>\n",
       "      <td>lead</td>\n",
       "      <td>1/3/2022</td>\n",
       "      <td>successful</td>\n",
       "      <td>lead_introduction</td>\n",
       "    </tr>\n",
       "    <tr>\n",
       "      <th>1</th>\n",
       "      <td>USR1002</td>\n",
       "      <td>1/4/2022</td>\n",
       "      <td>Telugu</td>\n",
       "      <td>42</td>\n",
       "      <td>JNR1001MG</td>\n",
       "      <td>lead</td>\n",
       "      <td>1/4/2022</td>\n",
       "      <td>successful</td>\n",
       "      <td>demo_schedule</td>\n",
       "    </tr>\n",
       "    <tr>\n",
       "      <th>2</th>\n",
       "      <td>USR1002</td>\n",
       "      <td>1/4/2022</td>\n",
       "      <td>Telugu</td>\n",
       "      <td>42</td>\n",
       "      <td>JNR1001MG</td>\n",
       "      <td>awareness</td>\n",
       "      <td>1/5/2022</td>\n",
       "      <td>successful</td>\n",
       "      <td>post_demo_followup</td>\n",
       "    </tr>\n",
       "    <tr>\n",
       "      <th>3</th>\n",
       "      <td>USR1002</td>\n",
       "      <td>1/4/2022</td>\n",
       "      <td>Telugu</td>\n",
       "      <td>42</td>\n",
       "      <td>JNR1001MG</td>\n",
       "      <td>awareness</td>\n",
       "      <td>1/6/2022</td>\n",
       "      <td>successful</td>\n",
       "      <td>followup_for_consideration</td>\n",
       "    </tr>\n",
       "    <tr>\n",
       "      <th>4</th>\n",
       "      <td>USR1002</td>\n",
       "      <td>1/4/2022</td>\n",
       "      <td>Telugu</td>\n",
       "      <td>42</td>\n",
       "      <td>JNR1001MG</td>\n",
       "      <td>consideration</td>\n",
       "      <td>1/7/2022</td>\n",
       "      <td>successful</td>\n",
       "      <td>interested_for_conversion</td>\n",
       "    </tr>\n",
       "    <tr>\n",
       "      <th>5</th>\n",
       "      <td>USR1002</td>\n",
       "      <td>1/4/2022</td>\n",
       "      <td>Telugu</td>\n",
       "      <td>42</td>\n",
       "      <td>JNR1001MG</td>\n",
       "      <td>consideration</td>\n",
       "      <td>1/7/2022</td>\n",
       "      <td>successful</td>\n",
       "      <td>followup_for_conversion</td>\n",
       "    </tr>\n",
       "    <tr>\n",
       "      <th>6</th>\n",
       "      <td>USR1002</td>\n",
       "      <td>1/4/2022</td>\n",
       "      <td>Telugu</td>\n",
       "      <td>42</td>\n",
       "      <td>JNR1001MG</td>\n",
       "      <td>consideration</td>\n",
       "      <td>1/7/2022</td>\n",
       "      <td>successful</td>\n",
       "      <td>followup_for_conversion</td>\n",
       "    </tr>\n",
       "    <tr>\n",
       "      <th>7</th>\n",
       "      <td>USR1002</td>\n",
       "      <td>1/4/2022</td>\n",
       "      <td>Telugu</td>\n",
       "      <td>42</td>\n",
       "      <td>JNR1001MG</td>\n",
       "      <td>conversion</td>\n",
       "      <td>1/7/2022</td>\n",
       "      <td>successful</td>\n",
       "      <td>successful_conversion</td>\n",
       "    </tr>\n",
       "    <tr>\n",
       "      <th>8</th>\n",
       "      <td>USR1003</td>\n",
       "      <td>1/7/2022</td>\n",
       "      <td>Telugu</td>\n",
       "      <td>81</td>\n",
       "      <td>JNR1001MG</td>\n",
       "      <td>lead</td>\n",
       "      <td>1/4/2022</td>\n",
       "      <td>unsuccessful</td>\n",
       "      <td>lead_introduction</td>\n",
       "    </tr>\n",
       "    <tr>\n",
       "      <th>9</th>\n",
       "      <td>USR1003</td>\n",
       "      <td>1/7/2022</td>\n",
       "      <td>Telugu</td>\n",
       "      <td>81</td>\n",
       "      <td>JNR1001MG</td>\n",
       "      <td>lead</td>\n",
       "      <td>1/5/2022</td>\n",
       "      <td>successful</td>\n",
       "      <td>lead_introduction</td>\n",
       "    </tr>\n",
       "  </tbody>\n",
       "</table>\n",
       "</div>"
      ],
      "text/plain": [
       "   lead_id demo_watched_date language  watched_percentage  jnr_sm_id  \\\n",
       "0  USR1002          1/4/2022   Telugu                  42  JNR1001MG   \n",
       "1  USR1002          1/4/2022   Telugu                  42  JNR1001MG   \n",
       "2  USR1002          1/4/2022   Telugu                  42  JNR1001MG   \n",
       "3  USR1002          1/4/2022   Telugu                  42  JNR1001MG   \n",
       "4  USR1002          1/4/2022   Telugu                  42  JNR1001MG   \n",
       "5  USR1002          1/4/2022   Telugu                  42  JNR1001MG   \n",
       "6  USR1002          1/4/2022   Telugu                  42  JNR1001MG   \n",
       "7  USR1002          1/4/2022   Telugu                  42  JNR1001MG   \n",
       "8  USR1003          1/7/2022   Telugu                  81  JNR1001MG   \n",
       "9  USR1003          1/7/2022   Telugu                  81  JNR1001MG   \n",
       "\n",
       "      lead_stage call_done_date   call_status                 call_reason  \n",
       "0           lead       1/3/2022    successful           lead_introduction  \n",
       "1           lead       1/4/2022    successful               demo_schedule  \n",
       "2      awareness       1/5/2022    successful          post_demo_followup  \n",
       "3      awareness       1/6/2022    successful  followup_for_consideration  \n",
       "4  consideration       1/7/2022    successful   interested_for_conversion  \n",
       "5  consideration       1/7/2022    successful     followup_for_conversion  \n",
       "6  consideration       1/7/2022    successful     followup_for_conversion  \n",
       "7     conversion       1/7/2022    successful       successful_conversion  \n",
       "8           lead       1/4/2022  unsuccessful           lead_introduction  \n",
       "9           lead       1/5/2022    successful           lead_introduction  "
      ]
     },
     "execution_count": 18,
     "metadata": {},
     "output_type": "execute_result"
    }
   ],
   "source": [
    "df_merged_interaction_demo.head(10)"
   ]
  },
  {
   "cell_type": "code",
   "execution_count": 19,
   "id": "2097440a",
   "metadata": {},
   "outputs": [
    {
     "data": {
      "text/html": [
       "<div>\n",
       "<style scoped>\n",
       "    .dataframe tbody tr th:only-of-type {\n",
       "        vertical-align: middle;\n",
       "    }\n",
       "\n",
       "    .dataframe tbody tr th {\n",
       "        vertical-align: top;\n",
       "    }\n",
       "\n",
       "    .dataframe thead th {\n",
       "        text-align: right;\n",
       "    }\n",
       "</style>\n",
       "<table border=\"1\" class=\"dataframe\">\n",
       "  <thead>\n",
       "    <tr style=\"text-align: right;\">\n",
       "      <th></th>\n",
       "      <th>watched_percentage</th>\n",
       "    </tr>\n",
       "  </thead>\n",
       "  <tbody>\n",
       "    <tr>\n",
       "      <th>count</th>\n",
       "      <td>1560.000000</td>\n",
       "    </tr>\n",
       "    <tr>\n",
       "      <th>mean</th>\n",
       "      <td>53.848077</td>\n",
       "    </tr>\n",
       "    <tr>\n",
       "      <th>std</th>\n",
       "      <td>26.068039</td>\n",
       "    </tr>\n",
       "    <tr>\n",
       "      <th>min</th>\n",
       "      <td>2.000000</td>\n",
       "    </tr>\n",
       "    <tr>\n",
       "      <th>25%</th>\n",
       "      <td>30.000000</td>\n",
       "    </tr>\n",
       "    <tr>\n",
       "      <th>50%</th>\n",
       "      <td>60.000000</td>\n",
       "    </tr>\n",
       "    <tr>\n",
       "      <th>75%</th>\n",
       "      <td>76.000000</td>\n",
       "    </tr>\n",
       "    <tr>\n",
       "      <th>max</th>\n",
       "      <td>100.000000</td>\n",
       "    </tr>\n",
       "  </tbody>\n",
       "</table>\n",
       "</div>"
      ],
      "text/plain": [
       "       watched_percentage\n",
       "count         1560.000000\n",
       "mean            53.848077\n",
       "std             26.068039\n",
       "min              2.000000\n",
       "25%             30.000000\n",
       "50%             60.000000\n",
       "75%             76.000000\n",
       "max            100.000000"
      ]
     },
     "execution_count": 19,
     "metadata": {},
     "output_type": "execute_result"
    }
   ],
   "source": [
    "df_merged_interaction_demo.describe()"
   ]
  },
  {
   "cell_type": "code",
   "execution_count": 20,
   "id": "df2009ec",
   "metadata": {},
   "outputs": [
    {
     "data": {
      "text/plain": [
       "<AxesSubplot:xlabel='lead_stage', ylabel='watched_percentage'>"
      ]
     },
     "execution_count": 20,
     "metadata": {},
     "output_type": "execute_result"
    },
    {
     "data": {
      "image/png": "[encoded data removed]",
      "text/plain": [
       "<Figure size 432x288 with 1 Axes>"
      ]
     },
     "metadata": {
      "needs_background": "light"
     },
     "output_type": "display_data"
    }
   ],
   "source": [
    "df_merged_interaction_demo.plot.scatter(x = 'lead_stage', y = 'watched_percentage', s=10, c='blue')"
   ]
  },
  {
   "cell_type": "markdown",
   "id": "9e8be456",
   "metadata": {},
   "source": [
    "#### Leads having watch percentage in the range of (mean [+/-] std) showed a higher involvement at all stages, more importantly at \"consideration\" and \"conversion\" stage"
   ]
  },
  {
   "cell_type": "code",
   "execution_count": 21,
   "id": "56b3226d",
   "metadata": {},
   "outputs": [
    {
     "data": {
      "text/plain": [
       "<AxesSubplot:xlabel='language', ylabel='watched_percentage'>"
      ]
     },
     "execution_count": 21,
     "metadata": {},
     "output_type": "execute_result"
    },
    {
     "data": {
      "image/png": "[encoded data removed]",
      "text/plain": [
       "<Figure size 432x288 with 1 Axes>"
      ]
     },
     "metadata": {
      "needs_background": "light"
     },
     "output_type": "display_data"
    }
   ],
   "source": [
    "df_merged_interaction_demo.plot.scatter(x = 'language', y = 'watched_percentage', s=10, c='blue')"
   ]
  },
  {
   "cell_type": "markdown",
   "id": "91117cc7",
   "metadata": {},
   "source": [
    "#### Language seems to play an important role. Number of Leads taking demo in English are more and they tend to have higher watched percentage"
   ]
  },
  {
   "cell_type": "code",
   "execution_count": 22,
   "id": "164311ba",
   "metadata": {},
   "outputs": [
    {
     "data": {
      "text/html": [
       "<div>\n",
       "<style scoped>\n",
       "    .dataframe tbody tr th:only-of-type {\n",
       "        vertical-align: middle;\n",
       "    }\n",
       "\n",
       "    .dataframe tbody tr th {\n",
       "        vertical-align: top;\n",
       "    }\n",
       "\n",
       "    .dataframe thead th {\n",
       "        text-align: right;\n",
       "    }\n",
       "</style>\n",
       "<table border=\"1\" class=\"dataframe\">\n",
       "  <thead>\n",
       "    <tr style=\"text-align: right;\">\n",
       "      <th></th>\n",
       "      <th>lead_id</th>\n",
       "      <th>reasons_for_not_interested_in_demo</th>\n",
       "      <th>reasons_for_not_interested_to_consider</th>\n",
       "      <th>reasons_for_not_interested_to_convert</th>\n",
       "    </tr>\n",
       "  </thead>\n",
       "  <tbody>\n",
       "    <tr>\n",
       "      <th>0</th>\n",
       "      <td>USR1001</td>\n",
       "      <td>No time for student</td>\n",
       "      <td>NaN</td>\n",
       "      <td>NaN</td>\n",
       "    </tr>\n",
       "    <tr>\n",
       "      <th>1</th>\n",
       "      <td>USR1003</td>\n",
       "      <td>NaN</td>\n",
       "      <td>No time for student</td>\n",
       "      <td>NaN</td>\n",
       "    </tr>\n",
       "    <tr>\n",
       "      <th>2</th>\n",
       "      <td>USR1004</td>\n",
       "      <td>NaN</td>\n",
       "      <td>Wants offline classes</td>\n",
       "      <td>NaN</td>\n",
       "    </tr>\n",
       "    <tr>\n",
       "      <th>3</th>\n",
       "      <td>USR1005</td>\n",
       "      <td>NaN</td>\n",
       "      <td>Can't afford</td>\n",
       "      <td>NaN</td>\n",
       "    </tr>\n",
       "    <tr>\n",
       "      <th>4</th>\n",
       "      <td>USR1006</td>\n",
       "      <td>NaN</td>\n",
       "      <td>Student not interested in domain</td>\n",
       "      <td>NaN</td>\n",
       "    </tr>\n",
       "    <tr>\n",
       "      <th>...</th>\n",
       "      <td>...</td>\n",
       "      <td>...</td>\n",
       "      <td>...</td>\n",
       "      <td>...</td>\n",
       "    </tr>\n",
       "    <tr>\n",
       "      <th>289</th>\n",
       "      <td>USR1356</td>\n",
       "      <td>Cannot afford</td>\n",
       "      <td>NaN</td>\n",
       "      <td>NaN</td>\n",
       "    </tr>\n",
       "    <tr>\n",
       "      <th>290</th>\n",
       "      <td>USR1357</td>\n",
       "      <td>Cannot afford</td>\n",
       "      <td>NaN</td>\n",
       "      <td>NaN</td>\n",
       "    </tr>\n",
       "    <tr>\n",
       "      <th>291</th>\n",
       "      <td>USR1358</td>\n",
       "      <td>Wants offline classes</td>\n",
       "      <td>NaN</td>\n",
       "      <td>NaN</td>\n",
       "    </tr>\n",
       "    <tr>\n",
       "      <th>292</th>\n",
       "      <td>USR1359</td>\n",
       "      <td>Will join in final year</td>\n",
       "      <td>NaN</td>\n",
       "      <td>NaN</td>\n",
       "    </tr>\n",
       "    <tr>\n",
       "      <th>293</th>\n",
       "      <td>USR1360</td>\n",
       "      <td>Will join in final year</td>\n",
       "      <td>NaN</td>\n",
       "      <td>NaN</td>\n",
       "    </tr>\n",
       "  </tbody>\n",
       "</table>\n",
       "<p>294 rows × 4 columns</p>\n",
       "</div>"
      ],
      "text/plain": [
       "     lead_id reasons_for_not_interested_in_demo  \\\n",
       "0    USR1001                No time for student   \n",
       "1    USR1003                                NaN   \n",
       "2    USR1004                                NaN   \n",
       "3    USR1005                                NaN   \n",
       "4    USR1006                                NaN   \n",
       "..       ...                                ...   \n",
       "289  USR1356                      Cannot afford   \n",
       "290  USR1357                      Cannot afford   \n",
       "291  USR1358              Wants offline classes   \n",
       "292  USR1359            Will join in final year   \n",
       "293  USR1360            Will join in final year   \n",
       "\n",
       "    reasons_for_not_interested_to_consider  \\\n",
       "0                                      NaN   \n",
       "1                      No time for student   \n",
       "2                    Wants offline classes   \n",
       "3                             Can't afford   \n",
       "4         Student not interested in domain   \n",
       "..                                     ...   \n",
       "289                                    NaN   \n",
       "290                                    NaN   \n",
       "291                                    NaN   \n",
       "292                                    NaN   \n",
       "293                                    NaN   \n",
       "\n",
       "    reasons_for_not_interested_to_convert  \n",
       "0                                     NaN  \n",
       "1                                     NaN  \n",
       "2                                     NaN  \n",
       "3                                     NaN  \n",
       "4                                     NaN  \n",
       "..                                    ...  \n",
       "289                                   NaN  \n",
       "290                                   NaN  \n",
       "291                                   NaN  \n",
       "292                                   NaN  \n",
       "293                                   NaN  \n",
       "\n",
       "[294 rows x 4 columns]"
      ]
     },
     "execution_count": 22,
     "metadata": {},
     "output_type": "execute_result"
    }
   ],
   "source": [
    "leads_reasons_for_no_interest"
   ]
  },
  {
   "cell_type": "code",
   "execution_count": 23,
   "id": "6ccbef18",
   "metadata": {},
   "outputs": [
    {
     "data": {
      "text/plain": [
       "reasons_for_not_interested_in_demo\n",
       "Can't afford                        44\n",
       "Cannot afford                        4\n",
       "No time for student                 27\n",
       "Student not interested in domain    28\n",
       "Wants offline classes               56\n",
       "Will join in final year              5\n",
       "dtype: int64"
      ]
     },
     "execution_count": 23,
     "metadata": {},
     "output_type": "execute_result"
    }
   ],
   "source": [
    "leads_reasons_for_no_interest.groupby('reasons_for_not_interested_in_demo').size()"
   ]
  },
  {
   "cell_type": "code",
   "execution_count": 24,
   "id": "ea62ab48",
   "metadata": {},
   "outputs": [
    {
     "data": {
      "text/plain": [
       "Text(0.5, 1.0, 'Distribution of Reasons for not interested in demo')"
      ]
     },
     "execution_count": 24,
     "metadata": {},
     "output_type": "execute_result"
    },
    {
     "data": {
      "image/png": "[encoded data removed]",
      "text/plain": [
       "<Figure size 432x288 with 1 Axes>"
      ]
     },
     "metadata": {},
     "output_type": "display_data"
    }
   ],
   "source": [
    "ax = leads_reasons_for_no_interest.groupby('reasons_for_not_interested_in_demo').size().plot(kind='pie', autopct='%.2f',  y='lead_id', ylabel='')\n",
    "ax.set_title(\"Distribution of Reasons for not interested in demo\")"
   ]
  },
  {
   "cell_type": "code",
   "execution_count": 25,
   "id": "abbb916c",
   "metadata": {},
   "outputs": [
    {
     "data": {
      "text/plain": [
       "Text(0.5, 1.0, 'Distribution of Reasons for not interested to consider')"
      ]
     },
     "execution_count": 25,
     "metadata": {},
     "output_type": "execute_result"
    },
    {
     "data": {
      "image/png": "[encoded data removed]",
      "text/plain": [
       "<Figure size 432x288 with 1 Axes>"
      ]
     },
     "metadata": {},
     "output_type": "display_data"
    }
   ],
   "source": [
    "ax = leads_reasons_for_no_interest.groupby('reasons_for_not_interested_to_consider').size().plot(kind='pie', autopct='%.2f',  y='lead_id', ylabel='')\n",
    "ax.set_title(\"Distribution of Reasons for not interested to consider\")"
   ]
  },
  {
   "cell_type": "code",
   "execution_count": 26,
   "id": "207ea77e",
   "metadata": {},
   "outputs": [
    {
     "data": {
      "text/plain": [
       "Text(0.5, 1.0, 'Distribution of Reasons for not interested to convert')"
      ]
     },
     "execution_count": 26,
     "metadata": {},
     "output_type": "execute_result"
    },
    {
     "data": {
      "image/png": "[encoded data removed]",
      "text/plain": [
       "<Figure size 432x288 with 1 Axes>"
      ]
     },
     "metadata": {},
     "output_type": "display_data"
    }
   ],
   "source": [
    "ax = leads_reasons_for_no_interest.groupby('reasons_for_not_interested_to_convert').size().plot(kind='pie', autopct='%.2f',  y='lead_id', ylabel='')\n",
    "ax.set_title(\"Distribution of Reasons for not interested to convert\")"
   ]
  },
  {
   "cell_type": "markdown",
   "id": "18b1aa14",
   "metadata": {},
   "source": [
    "#### At first glance, the most common reason for leads dropping out at different stages seem to be the affordability of the course. The other crucial reason to look out for is the preference for offline classes.\n",
    "The problem of affordability can be broadly analysed on two metrics - current_education and parent_occupation."
   ]
  },
  {
   "cell_type": "code",
   "execution_count": 27,
   "id": "51fe92d0",
   "metadata": {},
   "outputs": [],
   "source": [
    "df_merged_leads_reason = pd.merge(leads_reasons_for_no_interest, lead_basic_details_cleaned, how='inner', on = 'lead_id')\n"
   ]
  },
  {
   "cell_type": "code",
   "execution_count": 28,
   "id": "078075ae",
   "metadata": {},
   "outputs": [
    {
     "name": "stdout",
     "output_type": "stream",
     "text": [
      "<class 'pandas.core.frame.DataFrame'>\n",
      "Int64Index: 292 entries, 0 to 291\n",
      "Data columns (total 10 columns):\n",
      " #   Column                                  Non-Null Count  Dtype \n",
      "---  ------                                  --------------  ----- \n",
      " 0   lead_id                                 292 non-null    object\n",
      " 1   reasons_for_not_interested_in_demo      163 non-null    object\n",
      " 2   reasons_for_not_interested_to_consider  78 non-null     object\n",
      " 3   reasons_for_not_interested_to_convert   51 non-null     object\n",
      " 4   age                                     292 non-null    int64 \n",
      " 5   gender                                  292 non-null    object\n",
      " 6   current_city                            292 non-null    object\n",
      " 7   current_education                       292 non-null    object\n",
      " 8   parent_occupation                       292 non-null    object\n",
      " 9   lead_gen_source                         292 non-null    object\n",
      "dtypes: int64(1), object(9)\n",
      "memory usage: 25.1+ KB\n"
     ]
    }
   ],
   "source": [
    "df_merged_leads_reason.info()"
   ]
  },
  {
   "cell_type": "code",
   "execution_count": 29,
   "id": "d031aed5",
   "metadata": {},
   "outputs": [
    {
     "data": {
      "text/plain": [
       "Looking for Job    26\n",
       "B.Tech             16\n",
       "Degree              3\n",
       "Intermediate        2\n",
       "10th Completed      1\n",
       "Name: current_education, dtype: int64"
      ]
     },
     "execution_count": 29,
     "metadata": {},
     "output_type": "execute_result"
    }
   ],
   "source": [
    "df_merged_leads_reason.query('reasons_for_not_interested_in_demo == [\"Can\\'t afford\", \"Cannot afford\"]')['current_education'].value_counts()"
   ]
  },
  {
   "cell_type": "code",
   "execution_count": 30,
   "id": "6194ccea",
   "metadata": {},
   "outputs": [
    {
     "data": {
      "text/plain": [
       "Looking for Job    16\n",
       "Degree              6\n",
       "Intermediate        4\n",
       "B.Tech              3\n",
       "10th Completed      2\n",
       "Name: current_education, dtype: int64"
      ]
     },
     "execution_count": 30,
     "metadata": {},
     "output_type": "execute_result"
    }
   ],
   "source": [
    "df_merged_leads_reason.query('reasons_for_not_interested_to_consider == [\"Can\\'t afford\", \"Cannot afford\"]')['current_education'].value_counts()"
   ]
  },
  {
   "cell_type": "code",
   "execution_count": 31,
   "id": "8bb0b00d",
   "metadata": {},
   "outputs": [
    {
     "data": {
      "text/plain": [
       "Looking for Job    11\n",
       "B.Tech              7\n",
       "Degree              1\n",
       "Name: current_education, dtype: int64"
      ]
     },
     "execution_count": 31,
     "metadata": {},
     "output_type": "execute_result"
    }
   ],
   "source": [
    "df_merged_leads_reason.query('reasons_for_not_interested_to_convert == [\"Can\\'t afford\", \"Cannot afford\"]')['current_education'].value_counts()"
   ]
  },
  {
   "cell_type": "markdown",
   "id": "755650eb",
   "metadata": {},
   "source": [
    "#### Most of the leads dropping out due to affordability reasons are either \"Looking for job\" or pursuing \"B.Tech\" or \"Degree\". In such cases, parents income might play a major role.\n",
    "\n"
   ]
  },
  {
   "cell_type": "code",
   "execution_count": 32,
   "id": "e9d35f3a",
   "metadata": {},
   "outputs": [
    {
     "data": {
      "text/plain": [
       "Government Employee    17\n",
       "Business               11\n",
       "IT Employee             9\n",
       "Lawyer                  8\n",
       "Private Employee        2\n",
       "Doctor                  1\n",
       "Name: parent_occupation, dtype: int64"
      ]
     },
     "execution_count": 32,
     "metadata": {},
     "output_type": "execute_result"
    }
   ],
   "source": [
    "df_merged_leads_reason.query('reasons_for_not_interested_in_demo == [\"Can\\'t afford\", \"Cannot afford\"]')['parent_occupation'].value_counts()"
   ]
  },
  {
   "cell_type": "code",
   "execution_count": 34,
   "id": "d493c873",
   "metadata": {},
   "outputs": [
    {
     "data": {
      "text/plain": [
       "Government Employee    17\n",
       "Business                6\n",
       "IT Employee             4\n",
       "Lawyer                  4\n",
       "Name: parent_occupation, dtype: int64"
      ]
     },
     "execution_count": 34,
     "metadata": {},
     "output_type": "execute_result"
    }
   ],
   "source": [
    "df_merged_leads_reason.query('reasons_for_not_interested_to_consider == [\"Can\\'t afford\", \"Cannot afford\"]')['parent_occupation'].value_counts()"
   ]
  },
  {
   "cell_type": "code",
   "execution_count": 35,
   "id": "731aeb53",
   "metadata": {},
   "outputs": [
    {
     "data": {
      "text/plain": [
       "Business               6\n",
       "IT Employee            6\n",
       "Government Employee    4\n",
       "Lawyer                 2\n",
       "Private Employee       1\n",
       "Name: parent_occupation, dtype: int64"
      ]
     },
     "execution_count": 35,
     "metadata": {},
     "output_type": "execute_result"
    }
   ],
   "source": [
    "df_merged_leads_reason.query('reasons_for_not_interested_to_convert == [\"Can\\'t afford\", \"Cannot afford\"]')['parent_occupation'].value_counts()"
   ]
  },
  {
   "cell_type": "markdown",
   "id": "189c3ffa",
   "metadata": {},
   "source": [
    "#### Most of the leads who dropped out at various stages due to affordability have parents working as a government employee or an IT employee or in business"
   ]
  },
  {
   "cell_type": "code",
   "execution_count": 36,
   "id": "cd3c7947",
   "metadata": {},
   "outputs": [
    {
     "data": {
      "text/plain": [
       "358"
      ]
     },
     "execution_count": 36,
     "metadata": {},
     "output_type": "execute_result"
    }
   ],
   "source": [
    "leads_interaction_details.lead_id.nunique()"
   ]
  },
  {
   "cell_type": "code",
   "execution_count": 37,
   "id": "9857de3f",
   "metadata": {},
   "outputs": [
    {
     "data": {
      "text/plain": [
       "64"
      ]
     },
     "execution_count": 37,
     "metadata": {},
     "output_type": "execute_result"
    }
   ],
   "source": [
    "leads_interaction_details.query('call_reason == \"successful_conversion\"')['lead_id'].nunique()"
   ]
  },
  {
   "cell_type": "markdown",
   "id": "2c2fd1f2",
   "metadata": {},
   "source": [
    "#### Approximately 6% of the leads got converted successfully."
   ]
  },
  {
   "cell_type": "code",
   "execution_count": null,
   "id": "986fb795",
   "metadata": {},
   "outputs": [],
   "source": []
  }
 ],
 "metadata": {
  "kernelspec": {
   "display_name": "Python 3 (ipykernel)",
   "language": "python",
   "name": "python3"
  },
  "language_info": {
   "codemirror_mode": {
    "name": "ipython",
    "version": 3
   },
   "file_extension": ".py",
   "mimetype": "text/x-python",
   "name": "python",
   "nbconvert_exporter": "python",
   "pygments_lexer": "ipython3",
   "version": "3.10.5"
  }
 },
 "nbformat": 4,
 "nbformat_minor": 5
}
